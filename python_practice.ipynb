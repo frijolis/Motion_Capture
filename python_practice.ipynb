{
 "cells": [
  {
   "cell_type": "code",
   "execution_count": null,
   "metadata": {},
   "outputs": [],
   "source": []
  },
  {
   "cell_type": "code",
   "execution_count": 179,
   "metadata": {},
   "outputs": [
    {
     "name": "stdout",
     "output_type": "stream",
     "text": [
      "[[ 0.39447043]\n",
      " [-0.35488809]]\n"
     ]
    },
    {
     "ename": "AttributeError",
     "evalue": "'list' object has no attribute 'axes'",
     "output_type": "error",
     "traceback": [
      "\u001b[0;31m---------------------------------------------------------------------------\u001b[0m",
      "\u001b[0;31mAttributeError\u001b[0m                            Traceback (most recent call last)",
      "\u001b[0;32m<ipython-input-179-3608e51eab09>\u001b[0m in \u001b[0;36m<module>\u001b[0;34m\u001b[0m\n\u001b[1;32m     90\u001b[0m \u001b[0max\u001b[0m\u001b[0;34m.\u001b[0m\u001b[0madd_artist\u001b[0m\u001b[0;34m(\u001b[0m\u001b[0mcircles\u001b[0m\u001b[0;34m[\u001b[0m\u001b[0;36m1\u001b[0m\u001b[0;34m]\u001b[0m\u001b[0;34m)\u001b[0m\u001b[0;34m\u001b[0m\u001b[0;34m\u001b[0m\u001b[0m\n\u001b[1;32m     91\u001b[0m \u001b[0max\u001b[0m\u001b[0;34m.\u001b[0m\u001b[0madd_artist\u001b[0m\u001b[0;34m(\u001b[0m\u001b[0mcircles\u001b[0m\u001b[0;34m[\u001b[0m\u001b[0;36m2\u001b[0m\u001b[0;34m]\u001b[0m\u001b[0;34m)\u001b[0m\u001b[0;34m\u001b[0m\u001b[0;34m\u001b[0m\u001b[0m\n\u001b[0;32m---> 92\u001b[0;31m \u001b[0max\u001b[0m\u001b[0;34m.\u001b[0m\u001b[0madd_artist\u001b[0m\u001b[0;34m(\u001b[0m\u001b[0mcircles\u001b[0m\u001b[0;34m[\u001b[0m\u001b[0;36m3\u001b[0m\u001b[0;34m]\u001b[0m\u001b[0;34m)\u001b[0m\u001b[0;34m\u001b[0m\u001b[0;34m\u001b[0m\u001b[0m\n\u001b[0m\u001b[1;32m     93\u001b[0m \u001b[0;34m\u001b[0m\u001b[0m\n\u001b[1;32m     94\u001b[0m \u001b[0;31m# change default range so that new circles will work\u001b[0m\u001b[0;34m\u001b[0m\u001b[0;34m\u001b[0m\u001b[0;34m\u001b[0m\u001b[0m\n",
      "\u001b[0;32m~/anaconda3/lib/python3.8/site-packages/matplotlib/axes/_base.py\u001b[0m in \u001b[0;36madd_artist\u001b[0;34m(self, a)\u001b[0m\n\u001b[1;32m   1775\u001b[0m         \u001b[0;31m`\u001b[0m\u001b[0;31m`\u001b[0m\u001b[0max\u001b[0m\u001b[0;34m.\u001b[0m\u001b[0mtransData\u001b[0m\u001b[0;31m`\u001b[0m\u001b[0;31m`\u001b[0m\u001b[0;34m.\u001b[0m\u001b[0;34m\u001b[0m\u001b[0;34m\u001b[0m\u001b[0m\n\u001b[1;32m   1776\u001b[0m         \"\"\"\n\u001b[0;32m-> 1777\u001b[0;31m         \u001b[0ma\u001b[0m\u001b[0;34m.\u001b[0m\u001b[0maxes\u001b[0m \u001b[0;34m=\u001b[0m \u001b[0mself\u001b[0m\u001b[0;34m\u001b[0m\u001b[0;34m\u001b[0m\u001b[0m\n\u001b[0m\u001b[1;32m   1778\u001b[0m         \u001b[0mself\u001b[0m\u001b[0;34m.\u001b[0m\u001b[0martists\u001b[0m\u001b[0;34m.\u001b[0m\u001b[0mappend\u001b[0m\u001b[0;34m(\u001b[0m\u001b[0ma\u001b[0m\u001b[0;34m)\u001b[0m\u001b[0;34m\u001b[0m\u001b[0;34m\u001b[0m\u001b[0m\n\u001b[1;32m   1779\u001b[0m         \u001b[0ma\u001b[0m\u001b[0;34m.\u001b[0m\u001b[0m_remove_method\u001b[0m \u001b[0;34m=\u001b[0m \u001b[0mself\u001b[0m\u001b[0;34m.\u001b[0m\u001b[0martists\u001b[0m\u001b[0;34m.\u001b[0m\u001b[0mremove\u001b[0m\u001b[0;34m\u001b[0m\u001b[0;34m\u001b[0m\u001b[0m\n",
      "\u001b[0;31mAttributeError\u001b[0m: 'list' object has no attribute 'axes'"
     ]
    },
    {
     "data": {
      "image/png": "[encoded data removed]",
      "text/plain": [
       "<Figure size 432x288 with 1 Axes>"
      ]
     },
     "metadata": {
      "needs_background": "light"
     },
     "output_type": "display_data"
    },
    {
     "data": {
      "image/png": "[encoded data removed]",
      "text/plain": [
       "<Figure size 432x288 with 1 Axes>"
      ]
     },
     "metadata": {
      "needs_background": "light"
     },
     "output_type": "display_data"
    }
   ],
   "source": [
    "import matplotlib.pyplot as plt\n",
    "import numpy as np\n",
    "x = [0.7, 4.8, 2.1]\n",
    "y = [2.6, 1.2, 8.5]\n",
    "RSS = [52, 55, 54]\n",
    "\n",
    "#reference\n",
    "b1 = np.array([[x[0]], [y[0]]])\n",
    "b2 = np.array([[x[1]], [y[1]]])\n",
    "b3 = np.array([[x[2]], [y[2]]])\n",
    "\n",
    "d = np.zeros(len(RSS))\n",
    "b = list()\n",
    "circles = list()\n",
    "e = np.array([[1],[1]])\n",
    "#s = np.zeros(len(RSS))\n",
    "\n",
    "for i in range(len(RSS)):\n",
    "    d[i] = 10**((RSS[i]-45)/15)\n",
    "    circles.append(plt.Circle((x[i], y[i]), d[i], fill=False))\n",
    "    b.append(np.array([[x[i]], [y[i]]]))    \n",
    "s=b\n",
    "\n",
    "circles.append(plt.plot([0.39447043],[-0.35488809],'ro'))\n",
    "H = np.array([[2*b[0][0], 2*b[0][1]], [2*b[1][0], 2*b[1][1]]])\n",
    "#print(H)\n",
    "#P = np.linalg.inv(H)\n",
    "P = np.array([[-0.05,.111],[.206,-.03]])\n",
    "P_trans = P.T\n",
    "\n",
    "#calculating alpha\n",
    "x1 = float(np.dot(b1.T,b1)-d[0]**2)\n",
    "x2 = float(np.dot(b2.T,b2)-d[1]**2)\n",
    "\n",
    "alpha1 = np.array([[x1],[x2]])\n",
    "\n",
    "#first term\n",
    "a1 = np.dot(e.T,P.T)\n",
    "a2 = np.dot(a1,P)\n",
    "a = float(np.dot(a2,e))\n",
    "#print(a3)\n",
    "\n",
    "#second term\n",
    "b_1 = np.dot(alpha1.T,P.T)\n",
    "b_2 = np.dot(b_1,P)\n",
    "b_3 = np.dot(b_2,e)\n",
    "\n",
    "b4 = np.dot(e.T,P.T)\n",
    "b5 = np.dot(b4, P)\n",
    "b6 = np.dot(b5, alpha1)\n",
    "\n",
    "b = float(b_3 + b6 -1)\n",
    "\n",
    "#thrid term\n",
    "c1 = np.dot(alpha1.T, P.T)\n",
    "c2 = np.dot(c1, P)\n",
    "c = float(np.dot(c2,alpha1))\n",
    "\n",
    "import math\n",
    "\n",
    "f = b**2-4*a*c # discriminant\n",
    "\n",
    "if f < 0:\n",
    "    print(\"This equation has no real solution\")\n",
    "elif f == 0:\n",
    "    x = (-b+math.sqrt(b**2-4*a*c))/2*a\n",
    "    print(\"This equation has one solutions: \", x)\n",
    "else:\n",
    "    beta1 = (-b+math.sqrt(b**2-4*a*c))/2*a\n",
    "    beta2 = (-b-math.sqrt(b**2-4*a*c))/2*a\n",
    "    #print(\"This equation has two solutions: beta 1\", x1, \" and beta 1\", x2)\n",
    "    \n",
    "#getting u\n",
    "u1 = alpha1 + e*beta1\n",
    "u2 = np.dot(P,u1)\n",
    "\n",
    "print(u2)\n",
    "\n",
    "\n",
    "\n",
    "\n",
    "#print(b[0])\n",
    "#print(H)\n",
    "#alpha = np.\n",
    "#print(b1.T)\n",
    "    \n",
    "\n",
    "fig, ax = plt.subplots()\n",
    "ax.add_artist(circles[0])\n",
    "ax.add_artist(circles[1])\n",
    "ax.add_artist(circles[2])\n",
    "ax.add_artist(circles[3])\n",
    "\n",
    "# change default range so that new circles will work\n",
    "ax.set_xlim((-3, 10))\n",
    "ax.set_ylim((-5, 13))\n",
    "#circle = plt.Circle((0.7,2.6),52, fill = False)\n",
    "ax.set_aspect('equal', adjustable='box')\n"
   ]
  },
  {
   "cell_type": "code",
   "execution_count": 3,
   "metadata": {},
   "outputs": [
    {
     "name": "stdout",
     "output_type": "stream",
     "text": [
      "Requirement already satisfied: numpy in /home/xnibereik/anaconda3/lib/python3.8/site-packages (1.18.4)\r\n"
     ]
    }
   ],
   "source": [
    "import sys\n",
    "!{sys.executable} -m pip install numpy"
   ]
  },
  {
   "cell_type": "code",
   "execution_count": 21,
   "metadata": {},
   "outputs": [
    {
     "name": "stdout",
     "output_type": "stream",
     "text": [
      "[[2.1 4.8]\n",
      " [8.5 1.2]]\n",
      "[[2.1 8.5]\n",
      " [4.8 1.2]]\n"
     ]
    }
   ],
   "source": [
    "M = np.array([[x[2], x[1]], [y[2],y[1]]])\n",
    "print(M)\n",
    "print(M.T)\n",
    "#print(np.dot(M.T,M))"
   ]
  },
  {
   "cell_type": "code",
   "execution_count": 98,
   "metadata": {},
   "outputs": [
    {
     "name": "stdout",
     "output_type": "stream",
     "text": [
      "<class 'matplotlib.patches.Circle'>\n"
     ]
    },
    {
     "data": {
      "image/png": "[encoded data removed]",
      "text/plain": [
       "<Figure size 432x288 with 1 Axes>"
      ]
     },
     "metadata": {
      "needs_background": "light"
     },
     "output_type": "display_data"
    }
   ],
   "source": [
    "import matplotlib.pyplot as plt\n",
    "\n",
    "circle1 = plt.Circle((0, 0), 0.2, color='r')\n",
    "circle2 = plt.Circle((0.5, 0.5), 0.2, color='blue')\n",
    "circle3 = plt.Circle((1, 1), 0.2, color='g', clip_on=False)\n",
    "\n",
    "fig, ax = plt.subplots() # note we must use plt.subplots, not plt.subplot\n",
    "# (or if you have an existing figure)\n",
    "# fig = plt.gcf()\n",
    "# ax = fig.gca()\n",
    "\n",
    "ax.add_artist(circle1)\n",
    "ax.add_artist(circle2)\n",
    "ax.add_artist(circle3)\n",
    "\n",
    "fig.savefig('plotcircles.png')\n",
    "\n",
    "print(type(circle1))"
   ]
  },
  {
   "cell_type": "code",
   "execution_count": 197,
   "metadata": {},
   "outputs": [
    {
     "name": "stdout",
     "output_type": "stream",
     "text": [
      "['1', '2']\n",
      "<class 'list'>\n",
      "<class 'str'>\n",
      "There is a 2 chance of having 99 babies\n"
     ]
    }
   ],
   "source": [
    "#Some string excercises\n",
    "a=\"1, 2\"\n",
    "print(a.split(\", \"))\n",
    "b = a.split(\", \")\n",
    "print(type(b))\n",
    "c = b[0] + \" \" + b[1]\n",
    "print(type(c))\n",
    "chance = 99\n",
    "babies = 2\n",
    "#The string you wanna print lololol\n",
    "d=\"There is a {1} chance of having {0} babies\"\n",
    "\n",
    "print(d.format(chance, babies))\n",
    "\n",
    "\"\"\"\n",
    "Escape characters\n",
    "A backslash followed by an 'x' and a hex number represents a hex value:\n",
    "\"\"\"\n",
    "txt = \"\\x48\\x65\\x6c\\x6c\\x6f\"\n",
    "print(txt) \n"
   ]
  },
  {
   "cell_type": "code",
   "execution_count": 169,
   "metadata": {},
   "outputs": [
    {
     "name": "stdout",
     "output_type": "stream",
     "text": [
      "[[-1.31586738]\n",
      " [ 3.72634876]]\n"
     ]
    }
   ],
   "source": []
  },
  {
   "cell_type": "code",
   "execution_count": 176,
   "metadata": {},
   "outputs": [
    {
     "name": "stdout",
     "output_type": "stream",
     "text": [
      "[[8.36655129]\n",
      " [4.55196405]]\n"
     ]
    }
   ],
   "source": []
  }
 ],
 "metadata": {
  "kernelspec": {
   "display_name": "Python 3",
   "language": "python",
   "name": "python3"
  },
  "language_info": {
   "codemirror_mode": {
    "name": "ipython",
    "version": 3
   },
   "file_extension": ".py",
   "mimetype": "text/x-python",
   "name": "python",
   "nbconvert_exporter": "python",
   "pygments_lexer": "ipython3",
   "version": "3.8.2"
  }
 },
 "nbformat": 4,
 "nbformat_minor": 4
}
