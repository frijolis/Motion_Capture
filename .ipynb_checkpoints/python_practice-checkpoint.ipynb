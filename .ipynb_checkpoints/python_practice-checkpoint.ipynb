{
 "cells": [
  {
   "cell_type": "code",
   "execution_count": 43,
   "metadata": {},
   "outputs": [
    {
     "name": "stdout",
     "output_type": "stream",
     "text": [
      "[2.92864456 4.64158883 3.98107171]\n",
      "[[0.7]\n",
      " [2.6]] [[4.8]\n",
      " [1.2]] [[2.1]\n",
      " [8.5]]\n",
      "[[0.7 2.6]]\n"
     ]
    }
   ],
   "source": [
    "import numpy as np\n",
    "x = [0.7, 4.8, 2.1]\n",
    "y = [2.6, 1.2, 8.5]\n",
    "RSS = [52, 55, 54]\n",
    "\n",
    "#reference\n",
    "b1 = np.array([[x[0]], [y[0]]])\n",
    "b2 = np.array([[x[1]], [y[1]]])\n",
    "b3 = np.array([[x[2]], [y[2]]])\n",
    "\n",
    "d = np.zeros(len(RSS))\n",
    "s = np.zeros(len(RSS))\n",
    "\n",
    "for i in range(len(RSS)):\n",
    "    d[i] = 10**((RSS[i]-45)/15)\n",
    "    s[i] = \n",
    "print(d)\n",
    "\n",
    "\n",
    "\n",
    "s = 2*b1.T*\n",
    "e = 1\n",
    "alpha = np.\n",
    "print(b1.T)\n"
   ]
  },
  {
   "cell_type": "code",
   "execution_count": 8,
   "metadata": {},
   "outputs": [
    {
     "name": "stdout",
     "output_type": "stream",
     "text": [
      "Requirement already satisfied: scipy in /home/xnibereik/anaconda3/lib/python3.8/site-packages (1.4.1)\r\n",
      "Requirement already satisfied: numpy>=1.13.3 in /home/xnibereik/anaconda3/lib/python3.8/site-packages (from scipy) (1.18.4)\r\n"
     ]
    }
   ],
   "source": [
    "import sys\n",
    "!{sys.executable} -m pip install scipy"
   ]
  }
 ],
 "metadata": {
  "kernelspec": {
   "display_name": "Python 3",
   "language": "python",
   "name": "python3"
  },
  "language_info": {
   "codemirror_mode": {
    "name": "ipython",
    "version": 3
   },
   "file_extension": ".py",
   "mimetype": "text/x-python",
   "name": "python",
   "nbconvert_exporter": "python",
   "pygments_lexer": "ipython3",
   "version": "3.8.2"
  }
 },
 "nbformat": 4,
 "nbformat_minor": 4
}
